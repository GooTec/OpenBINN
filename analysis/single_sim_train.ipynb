{
 "cells": [
  {
   "cell_type": "markdown",
   "metadata": {},
   "source": [
    "# Single Simulation Training Demo\n",
    "Generate one simulation dataset and train a BINN while printing epoch metrics."
   ]
  },
  {
   "cell_type": "code",
   "metadata": {},
   "execution_count": null,
   "outputs": [],
   "source": [
    "import sys, subprocess\n",
    "from pathlib import Path\n",
    "\n",
    "ROOT = Path.cwd()\n",
    "if (ROOT / 'openbinn').exists():\n",
    "    sys.path.insert(0, str(ROOT))\n",
    "\n",
    "beta = 2.0\n",
    "gamma = 2.0\n",
    "sim_id = 1\n",
    "nonlinear = True\n",
    "data_root = Path(f'./data/b{beta}_g{gamma}/{sim_id}')\n",
    "\n",
    "if not data_root.exists():\n",
    "    cmd = [\n",
    "        'python', 'analysis/generate_simulations.py',\n",
    "        '--beta', str(beta), '--gamma', str(gamma),\n",
    "        '--n_sim', '1', '--start_sim', str(sim_id), '--end_sim', str(sim_id),\n",
    "        '--pathway_nonlinear' if nonlinear else ''\n",
    "    ]\n",
    "    cmd = [c for c in cmd if c]\n",
    "    subprocess.run(cmd, check=True)\n",
    "else:\n",
    "    print('Dataset exists at', data_root)"
   ]
  },
  {
   "cell_type": "code",
   "metadata": {},
   "execution_count": null,
   "outputs": [],
   "source": [
    "from openbinn.binn.data import PnetSimDataSet, ReactomeNetwork, get_layer_maps\n",
    "from torch.utils.data.sampler import SubsetRandomSampler\n",
    "from torch_geometric.loader import DataLoader as GeoLoader\n",
    "\n",
    "ds = PnetSimDataSet(root=str(data_root), num_features=3)\n",
    "ds.split_index_by_file(\n",
    "    train_fp=data_root/'splits'/'training_set_0.csv',\n",
    "    valid_fp=data_root/'splits'/'validation_set.csv',\n",
    "    test_fp =data_root/'splits'/'test_set.csv'\n",
    ")\n",
    "\n",
    "reactome = ReactomeNetwork(dict(\n",
    "    reactome_base_dir='biological_knowledge/simulation',\n",
    "    relations_file_name='SimulationPathwaysRelation.txt',\n",
    "    pathway_names_file_name='SimulationPathways.txt',\n",
    "    pathway_genes_file_name='SimulationPathways.gmt',\n",
    "))\n",
    "maps = get_layer_maps(genes=list(ds.node_index), reactome=reactome,\n",
    "                      n_levels=3, direction='root_to_leaf', add_unk_genes=False)\n",
    "ds.node_index = [g for g in ds.node_index if g in maps[0].index]\n",
    "\n",
    "bs = 16\n",
    "tr_loader = GeoLoader(ds, bs, sampler=SubsetRandomSampler(ds.train_idx), num_workers=0)\n",
    "va_loader = GeoLoader(ds, bs, sampler=SubsetRandomSampler(ds.valid_idx), num_workers=0)\n",
    "te_loader = GeoLoader(ds, bs, sampler=SubsetRandomSampler(ds.test_idx), num_workers=0)"
   ]
  },
  {
   "cell_type": "code",
   "metadata": {},
   "execution_count": null,
   "outputs": [],
   "source": [
    "from openbinn.binn import PNet\n",
    "from openbinn.binn.util import (\n",
    "    InMemoryLogger, eval_metrics, EpochMetricsPrinter, GradNormPrinter, MetricsRecorder\n",
    ")\n",
    "import pytorch_lightning as pl\n",
    "\n",
    "model = PNet(layers=maps, num_genes=maps[0].shape[0], lr=1e-3)\n",
    "init_loss, init_acc, init_auc = eval_metrics(model, va_loader)\n",
    "print(f'Start: loss={init_loss:.4f} acc={init_acc:.4f} auc={init_auc:.4f}')\n",
    "\n",
    "recorder = MetricsRecorder(data_root/'results', tr_loader, va_loader, te_loader)\n",
    "trainer = pl.Trainer(\n",
    "    accelerator='auto', deterministic=True, max_epochs=50,\n",
    "    callbacks=[\n",
    "        pl.callbacks.EarlyStopping('val_loss', patience=10, mode='min', verbose=True, min_delta=0.01),\n",
    "        EpochMetricsPrinter(tr_loader, va_loader),\n",
    "        GradNormPrinter(),\n",
    "        recorder,\n",
    "    ],\n",
    "    logger=InMemoryLogger(), enable_progress_bar=False\n",
    ")\n",
    "trainer.fit(model, tr_loader, va_loader)\n",
    "\n",
    "fin_loss, fin_acc, fin_auc = eval_metrics(model, va_loader)\n",
    "print(f'End: loss={fin_loss:.4f} acc={fin_acc:.4f} auc={fin_auc:.4f}')"
   ]
  },
  {
   "cell_type": "code",
   "metadata": {},
   "execution_count": null,
   "outputs": [],
   "source": [
    "import pandas as pd, matplotlib.pyplot as plt\n",
    "metrics = pd.read_csv(data_root/'results/performance/metrics.csv')\n",
    "metrics.head()\n",
    "\n",
    "plt.plot(metrics['epoch'], metrics['train_auc'], label='train')\n",
    "plt.plot(metrics['epoch'], metrics['val_auc'], label='val')\n",
    "plt.xlabel('Epoch'); plt.ylabel('AUC'); plt.legend(); plt.show()"
   ]
  }
 ],
 "metadata": {
  "kernelspec": {
   "display_name": "Python 3", 
   "language": "python", 
   "name": "python3"
  },
  "language_info": {
   "name": "python", 
   "version": "3.9"
  }
 },
 "nbformat": 4,
 "nbformat_minor": 5
}
