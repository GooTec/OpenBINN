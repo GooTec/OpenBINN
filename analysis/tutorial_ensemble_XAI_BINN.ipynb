{
 "cells": [
  {
   "cell_type": "markdown",
   "metadata": {},
   "source": [
    "# Ensemble XAI on BINN\n",
    "This tutorial demonstrates how to train a BINN on a simulation dataset and\n",
    "compute layer explanations using six different methods: **DeepLift**, **IntegratedGradients**, **GradientShap**, **Input×Gradient**, **SmoothGrad**, and **DeepLiftShap**."
   ]
  },
  {
   "cell_type": "code",
   "execution_count": null,
   "metadata": {},
   "outputs": [],
   "source": [
    "from pathlib import Path\n",
    "from analysis.train_original import load_reactome_once, train_dataset\n",
    "from analysis.importance_calculation import explain_dataset\n",
    "from openbinn.explainer import Explainer\n",
    "\n",
    "reactome = load_reactome_once()\n",
    "scenario = Path('./data/b2_g2/1')  # adjust path if needed\n",
    "\n",
    "# Train a small BINN model for this scenario\n",
    "train_dataset(scenario, reactome, best_params=(1e-3, 16))"
   ]
  },
  {
   "cell_type": "code",
   "execution_count": null,
   "metadata": {},
   "outputs": [],
   "source": [
    "# Compute explanations for each method\n",
    "methods = ['deeplift', 'ig', 'gradshap', 'itg', 'sg', 'shap']\n",
    "for method in methods:\n",
    "    print(f'Running {method} ...')\n",
    "    explain_dataset(scenario, reactome)  # METHOD is read from importance_calculation.METHOD\n",
    "    # Alternatively instantiate Explainer directly:\n",
    "    # model = ...  # load trained model\n",
    "    # explainer = Explainer(method, model, {'baseline': 0})\n",
    "    # attributions = explainer.get_layer_explanations(input_tensor)\n",
    "    \n"
   ]
  }
 ],
 "metadata": {
  "kernelspec": {
   "display_name": "Python 3",
   "language": "python",
   "name": "python3"
  },
  "language_info": {
   "name": "python",
   "version": "3.11"
  }
 },
 "nbformat": 4,
 "nbformat_minor": 5
}
