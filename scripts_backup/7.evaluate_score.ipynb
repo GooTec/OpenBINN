{
 "cells": [
  {
   "cell_type": "code",
   "execution_count": null,
   "id": "232d1c4e",
   "metadata": {},
   "outputs": [],
   "source": [
    "import "
   ]
  }
 ],
 "metadata": {
  "kernelspec": {
   "display_name": "openBINN",
   "language": "python",
   "name": "python3"
  },
  "language_info": {
   "name": "python",
   "version": "3.9.21"
  }
 },
 "nbformat": 4,
 "nbformat_minor": 5
}
